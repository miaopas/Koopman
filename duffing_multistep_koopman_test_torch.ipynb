{
 "cells": [
  {
   "cell_type": "code",
   "execution_count": 117,
   "metadata": {},
   "outputs": [],
   "source": [
    "import torch\n",
    "import torch.nn as nn\n",
    "import torch.optim as optim\n",
    "from torch.utils.data import DataLoader\n",
    "from torchvision import datasets, transforms\n",
    "import torch.nn.functional as F"
   ]
  },
  {
   "cell_type": "code",
   "execution_count": 118,
   "metadata": {},
   "outputs": [],
   "source": [
    "import numpy as np\n",
    "import matplotlib.pyplot as plt\n",
    "import pandas as pd"
   ]
  },
  {
   "cell_type": "code",
   "execution_count": 119,
   "metadata": {},
   "outputs": [],
   "source": [
    "from tqdm import tqdm"
   ]
  },
  {
   "cell_type": "code",
   "execution_count": 120,
   "metadata": {},
   "outputs": [],
   "source": [
    "torch.set_default_dtype(torch.float64)"
   ]
  },
  {
   "cell_type": "markdown",
   "metadata": {},
   "source": [
    "# Load data\n"
   ]
  },
  {
   "cell_type": "code",
   "execution_count": 121,
   "metadata": {},
   "outputs": [],
   "source": [
    "from scipy import signal\n",
    "from scipy.fftpack import diff as psdiff\n",
    "from scipy.integrate import solve_ivp\n",
    "\n",
    "\n",
    "class AbstractODETarget:\n",
    "    def __init__(self, dt=1e-3, t_step=0.25, dim=2):\n",
    "        self.dim = dim\n",
    "        self.dt = dt\n",
    "        self.t_step = t_step\n",
    "        self.n_step = int(t_step / dt)\n",
    "\n",
    "    def generate_init_data(self, n_traj, traj_len, seed=None):\n",
    "        data_x = []\n",
    "        if seed is not None:\n",
    "            np.random.seed(seed)\n",
    "\n",
    "        x0 = np.random.uniform(size=(n_traj, self.dim), low=self.x_min, high=self.x_max)\n",
    "\n",
    "        data_x.append(x0)\n",
    "        for t in range(traj_len - 1):\n",
    "            data_x.append(self.euler(data_x[t]))\n",
    "\n",
    "        data_x = np.asarray(data_x)\n",
    "\n",
    "        data_x = np.transpose(data_x, [1,0,2]).reshape(n_traj * traj_len, self.dim)\n",
    "        return np.asarray(data_x)\n",
    "\n",
    "    def generate_next_data(self, data_x):\n",
    "        data_y = self.euler(data_x)\n",
    "        return data_y\n",
    "\n",
    "    def generate_data(self, n_traj, traj_len, seed=None):\n",
    "        data_x = []\n",
    "        if seed is not None:\n",
    "            np.random.seed(seed)\n",
    "\n",
    "        x0 = np.random.uniform(size=(n_traj, self.dim), low=self.x_min, high=self.x_max)\n",
    "\n",
    "        data_x.append(x0)\n",
    "        for t in range(traj_len - 1):\n",
    "            data_x.append(self.euler(data_x[t]))\n",
    "\n",
    "        data_x = np.asarray(data_x)\n",
    "        data_x = np.transpose(data_x, [1,0,2])\n",
    "        return np.asarray(data_x)\n",
    "\n",
    "    def rhs(self):\n",
    "        \"\"\"RHS Function :return: The rhs of one specific ODE.\"\"\"\n",
    "        return NotImplementedError\n",
    "\n",
    "    def euler(self, x):\n",
    "        \"\"\"ODE Solver.\n",
    "\n",
    "        :param x: variable\n",
    "        :type x: vector (float)\n",
    "        :return: ODE Solution at t_step after iterating the Euler method n_step times\n",
    "        :rtype: vector with the same shape as the variable x (float)\n",
    "        \"\"\"\n",
    "        for _ in range(self.n_step):\n",
    "            x = x + self.dt * self.rhs(x)\n",
    "        return x\n",
    "\n",
    "\n",
    "class DuffingOscillator(AbstractODETarget):\n",
    "    \"\"\"Duffing equation based on the notation in.\n",
    "\n",
    "    (https://en.wikipedia.org/wiki/Duffing_equation)\n",
    "    \"\"\"\n",
    "\n",
    "    def __init__(self, dt=1e-3, t_step=0.25, dim=2, delta=0.5, alpha=1.0, beta=-1.0):\n",
    "        super().__init__(dt, t_step, dim)\n",
    "        self.delta = delta\n",
    "        self.alpha = alpha\n",
    "        self.beta = beta\n",
    "        self.x_min = -2\n",
    "        self.x_max = 2\n",
    "\n",
    "    def rhs(self, x):\n",
    "        x1 = x[:, 0].reshape(x.shape[0], 1)\n",
    "        x2 = x[:, 1].reshape(x.shape[0], 1)\n",
    "        f1 = x2\n",
    "        f2 = -self.delta * x2 - x1 * (self.beta + self.alpha * x1**2)\n",
    "        return np.concatenate([f1, f2], axis=-1)\n",
    "    \n"
   ]
  },
  {
   "cell_type": "code",
   "execution_count": 122,
   "metadata": {},
   "outputs": [],
   "source": [
    "duffing = DuffingOscillator(dt=1e-3, t_step=0.25, dim=2, delta=0.5, alpha=1.0, beta=-1.0)\n",
    "duffing_data_curr = duffing.generate_init_data(n_traj=1000, traj_len=50, seed=625)\n",
    "duffing_data_next = duffing.generate_next_data(duffing_data_curr)\n",
    "duffing_data_curr = torch.tensor(duffing_data_curr).double()\n",
    "duffing_data_next = torch.tensor(duffing_data_next).double()"
   ]
  },
  {
   "cell_type": "code",
   "execution_count": 123,
   "metadata": {},
   "outputs": [],
   "source": [
    "N = 1000\n",
    "L = 50\n",
    "state_dim = 2\n",
    "d = state_dim"
   ]
  },
  {
   "cell_type": "code",
   "execution_count": 124,
   "metadata": {},
   "outputs": [],
   "source": [
    "duffing_data = duffing.generate_data(n_traj=N, traj_len=L, seed=625)\n",
    "duffing_data = torch.tensor(duffing_data)"
   ]
  },
  {
   "cell_type": "code",
   "execution_count": 125,
   "metadata": {},
   "outputs": [
    {
     "name": "stderr",
     "output_type": "stream",
     "text": [
      "/tmp/ipykernel_2868189/4118435461.py:1: UserWarning: To copy construct from a tensor, it is recommended to use sourceTensor.clone().detach() or sourceTensor.clone().detach().requires_grad_(True), rather than torch.tensor(sourceTensor).\n",
      "  dataset = torch.utils.data.TensorDataset(torch.tensor(duffing_data))\n"
     ]
    }
   ],
   "source": [
    "dataset = torch.utils.data.TensorDataset(torch.tensor(duffing_data))"
   ]
  },
  {
   "cell_type": "code",
   "execution_count": 126,
   "metadata": {},
   "outputs": [
    {
     "data": {
      "text/plain": [
       "torch.Size([1000, 50, 2])"
      ]
     },
     "execution_count": 126,
     "metadata": {},
     "output_type": "execute_result"
    }
   ],
   "source": [
    "duffing_data.shape"
   ]
  },
  {
   "cell_type": "code",
   "execution_count": 127,
   "metadata": {},
   "outputs": [
    {
     "data": {
      "text/plain": [
       "[<matplotlib.lines.Line2D at 0x7f04bc2d7040>]"
      ]
     },
     "execution_count": 127,
     "metadata": {},
     "output_type": "execute_result"
    },
    {
     "data": {
      "image/png": "[encoded data removed]",
      "text/plain": [
       "<Figure size 640x480 with 1 Axes>"
      ]
     },
     "metadata": {},
     "output_type": "display_data"
    }
   ],
   "source": [
    "index = 999\n",
    "plt.plot(duffing_data[index,:,0], duffing_data[index,:,1])"
   ]
  },
  {
   "cell_type": "markdown",
   "metadata": {},
   "source": [
    "# Build Model Class"
   ]
  },
  {
   "cell_type": "markdown",
   "metadata": {},
   "source": [
    "## Dictionary Class"
   ]
  },
  {
   "cell_type": "code",
   "execution_count": 128,
   "metadata": {},
   "outputs": [],
   "source": [
    "class AbstractDictionary:\n",
    "    def __init__(self, n_psi_train, add_constant=True):\n",
    "        self.n_psi_train = n_psi_train\n",
    "        self.add_constant = add_constant\n",
    "\n",
    "    def generate_B(self, inputs):\n",
    "        target_dim = inputs.shape[-1]  # Get the last dimension of the input tensor\n",
    "\n",
    "        if self.add_constant:\n",
    "            self.n_psi = self.n_psi_train + target_dim + 1\n",
    "            # Initialize B matrix with zeros\n",
    "            self.B = torch.zeros((self.n_psi, target_dim), dtype=inputs.dtype, device=inputs.device)\n",
    "            # Setting the sub-diagonal elements to 1\n",
    "            for i in range(target_dim):\n",
    "                self.B[i + 1, i] = 1.0\n",
    "        else:\n",
    "            self.basis_func_number = self.n_psi_train + target_dim\n",
    "            # Initialize B matrix with zeros\n",
    "            self.B = torch.zeros((self.basis_func_number, target_dim), dtype=inputs.dtype, device=inputs.device)\n",
    "            # Setting the diagonal elements to 1\n",
    "            for i in range(target_dim):\n",
    "                self.B[i, i] = 1.0\n",
    "\n",
    "        return self.B\n",
    "class DicNN(nn.Module):\n",
    "    \"\"\"Trainable dictionaries.\"\"\"\n",
    "\n",
    "    def __init__(self, inputs_dim = 1, layer_sizes=[64, 64], n_psi_train=22, activation_func='tanh'):\n",
    "        super(DicNN, self).__init__()\n",
    "        self.inputs_dim = inputs_dim\n",
    "        self.layer_sizes = layer_sizes\n",
    "        self.n_psi_train = n_psi_train\n",
    "        self.activation_func = activation_func\n",
    "        \n",
    "        # Creating the input layer\n",
    "        self.input_layer = nn.Linear(self.inputs_dim, layer_sizes[0], bias=False)\n",
    "        \n",
    "        # Creating hidden layers\n",
    "        self.hidden_layers = nn.ModuleList()\n",
    "        for in_features, out_features in zip(layer_sizes[:-1], layer_sizes[1:]):\n",
    "            self.hidden_layers.append(nn.Linear(in_features, out_features))\n",
    "        \n",
    "        # Creating the output layer\n",
    "        self.output_layer = nn.Linear(layer_sizes[-1], n_psi_train)\n",
    "\n",
    "    def forward(self, inputs):\n",
    "        # Check layer dimension\n",
    "        if inputs.shape[-1] != self.inputs_dim:\n",
    "            print(f\"Error: Expected input dimension {self.inputs_dim}, but got {inputs.shape[-1]}\")\n",
    "            return None  # Optionally, you could raise an exception here\n",
    "\n",
    "        # Apply the input layer\n",
    "        psi_x_train = self.input_layer(inputs)\n",
    "        \n",
    "        # Apply hidden layers with residual connections\n",
    "        for layer in self.hidden_layers:\n",
    "            if self.activation_func == 'tanh':\n",
    "                psi_x_train = psi_x_train + F.tanh(layer(psi_x_train))\n",
    "            elif self.activation_func == 'relu':\n",
    "                psi_x_train = psi_x_train + F.relu(layer(psi_x_train))\n",
    "            else:\n",
    "                raise ValueError(\"Unsupported activation function\")\n",
    "\n",
    "        # Apply the output layer\n",
    "        outputs = self.output_layer(psi_x_train)\n",
    "        return outputs\n",
    "\n",
    "class PsiNN(nn.Module, AbstractDictionary):\n",
    "    def __init__(self, inputs_dim=1, dic_trainable=DicNN, layer_sizes=[64, 64], n_psi_train=22, activation_func='tanh', add_constant=True):\n",
    "        super(PsiNN, self).__init__()\n",
    "        self.n_psi_train = n_psi_train\n",
    "        self.add_constant = add_constant\n",
    "        # Create an instance of the dic_trainable with given parameters\n",
    "        self.dicNN = dic_trainable(inputs_dim, layer_sizes, n_psi_train, activation_func) if n_psi_train != 0 else None\n",
    "\n",
    "    def forward(self, inputs):\n",
    "        outputs = []\n",
    "\n",
    "        # Add a constant column of ones\n",
    "        if self.add_constant:\n",
    "            constant = torch.ones_like(inputs)[...,[0]]\n",
    "            outputs.append(constant)\n",
    "\n",
    "        # Add the original inputs\n",
    "        outputs.append(inputs)\n",
    "\n",
    "        # Add the output from dicNN if applicable\n",
    "        if self.n_psi_train != 0:\n",
    "            psi_x_train = self.dicNN(inputs)\n",
    "            outputs.append(psi_x_train)\n",
    "\n",
    "        # Concatenate along the feature dimension\n",
    "        outputs = torch.cat(outputs, dim=-1) if len(outputs) > 1 else outputs[0]\n",
    "\n",
    "        return outputs\n"
   ]
  },
  {
   "cell_type": "markdown",
   "metadata": {},
   "source": [
    "## Constant K Class"
   ]
  },
  {
   "cell_type": "code",
   "execution_count": 129,
   "metadata": {},
   "outputs": [],
   "source": [
    "class ConstantMatrixMultiplier(nn.Module):\n",
    "    def __init__(self, n_psi, dict_cons=True):\n",
    "        super(ConstantMatrixMultiplier, self).__init__()\n",
    "        # Initialize K as a n_spi x n_psi trainable parameter\n",
    "        self.n_psi = n_psi\n",
    "        # initial_weights = torch.eye(n_psi)*1/10\n",
    "        initial_weights = torch.randn(n_psi, n_psi)\n",
    "        self.K = nn.Parameter(initial_weights)\n",
    "        self.K.requires_grad = False\n",
    "\n",
    "    def forward(self, inputs):\n",
    "        # Perform matrix multiplication\n",
    "        # inputs should be of shape (batch_size, n_psi)\n",
    "        # K is (n_psi, n_psi), so the result will be of shape (batch_size, n_psi)\n",
    "        return torch.matmul(inputs, self.K)\n"
   ]
  },
  {
   "cell_type": "markdown",
   "metadata": {},
   "source": [
    "## Koopman Prediction Class"
   ]
  },
  {
   "cell_type": "code",
   "execution_count": 130,
   "metadata": {},
   "outputs": [],
   "source": [
    "class Koopman_predictor(nn.Module):\n",
    "    def __init__(self, dict, model_K):\n",
    "        super(Koopman_predictor, self).__init__()\n",
    "        self.dict = dict\n",
    "        self.model_K = model_K\n",
    "\n",
    "    def forward(self, inputs):\n",
    "        # Apply dictionary\n",
    "        psi_x = self.dict(inputs)\n",
    "        # Apply Koopman operator\n",
    "        K_psi_x = self.model_K(psi_x)\n",
    "        return K_psi_x"
   ]
  },
  {
   "cell_type": "markdown",
   "metadata": {},
   "source": [
    "# Build Data Loader\n"
   ]
  },
  {
   "cell_type": "code",
   "execution_count": 131,
   "metadata": {},
   "outputs": [],
   "source": [
    "from torch.utils.data import Dataset, DataLoader\n",
    "class MyDataset(Dataset):\n",
    "    def __init__(self, data, labels):\n",
    "        self.data = data\n",
    "        self.labels = labels\n",
    "\n",
    "    def __len__(self):\n",
    "        return len(self.data)\n",
    "\n",
    "    def __getitem__(self, index):\n",
    "        x = self.data[index]\n",
    "        y = self.labels[index]\n",
    "        return x, y"
   ]
  },
  {
   "cell_type": "markdown",
   "metadata": {},
   "source": [
    "# Build Model"
   ]
  },
  {
   "cell_type": "code",
   "execution_count": 132,
   "metadata": {},
   "outputs": [],
   "source": [
    "state_dim = 2\n",
    "layer_sizes = [256,256,256]\n",
    "n_psi_train = 22\n",
    "activation_func = 'tanh'"
   ]
  },
  {
   "cell_type": "code",
   "execution_count": 133,
   "metadata": {},
   "outputs": [],
   "source": [
    "n_psi = 1 + state_dim + n_psi_train"
   ]
  },
  {
   "cell_type": "code",
   "execution_count": 134,
   "metadata": {},
   "outputs": [],
   "source": [
    "dict_nn = PsiNN(inputs_dim=state_dim, \n",
    "                layer_sizes=layer_sizes, \n",
    "                n_psi_train=n_psi_train, \n",
    "                activation_func=activation_func)\n",
    "model_K = ConstantMatrixMultiplier(n_psi=n_psi)\n",
    "\n",
    "Koopman_model = Koopman_predictor(dict_nn, model_K)"
   ]
  },
  {
   "cell_type": "code",
   "execution_count": 135,
   "metadata": {},
   "outputs": [],
   "source": [
    "optimizer = torch.optim.Adam(list(Koopman_model.parameters()), lr=1e-2)\n",
    "loss_function = nn.MSELoss()"
   ]
  },
  {
   "cell_type": "code",
   "execution_count": 136,
   "metadata": {},
   "outputs": [],
   "source": [
    "# dataset = MyDataset(duffing_data_curr, duffing_data_next)\n",
    "\n",
    "data_loader = DataLoader(dataset, batch_size=100, shuffle=True)"
   ]
  },
  {
   "cell_type": "code",
   "execution_count": 137,
   "metadata": {},
   "outputs": [],
   "source": [
    "scheduler = torch.optim.lr_scheduler.ReduceLROnPlateau(optimizer, mode='min', factor=0.8, patience=20)"
   ]
  },
  {
   "cell_type": "markdown",
   "metadata": {},
   "source": [
    "# Train Model"
   ]
  },
  {
   "cell_type": "code",
   "execution_count": 138,
   "metadata": {},
   "outputs": [],
   "source": [
    "def compute_K(dict, data_x, data_y, reg):\n",
    "    # Compute representations\n",
    "    psi_x = dict(data_x)\n",
    "    psi_y = dict(data_y)\n",
    "    \n",
    "    # Transpose psi_x\n",
    "    psi_xt = psi_x.t()  # Transposing the matrix\n",
    "    \n",
    "    # Identity matrix with the same dimension as psi_x\n",
    "    idmat = torch.eye(psi_x.shape[1], dtype=torch.float64)\n",
    "    \n",
    "    # Regularized inverse computation\n",
    "    xtx = torch.mm(psi_xt, psi_x)  # Matrix multiplication of psi_xt and psi_x\n",
    "    xtx_inv = torch.pinverse(reg * idmat + xtx)  # Pseudoinverse of regularized matrix\n",
    "    \n",
    "    # Matrix multiplication of psi_xt and psi_y\n",
    "    xty = torch.mm(psi_xt, psi_y)\n",
    "    \n",
    "    # Compute the regularized K matrix\n",
    "    K_reg = torch.mm(xtx_inv, xty)\n",
    "    \n",
    "    return K_reg"
   ]
  },
  {
   "cell_type": "code",
   "execution_count": 139,
   "metadata": {},
   "outputs": [
    {
     "data": {
      "text/plain": [
       "torch.Size([1000, 50, 25])"
      ]
     },
     "execution_count": 139,
     "metadata": {},
     "output_type": "execute_result"
    }
   ],
   "source": [
    "Koopman_model.dict(duffing_data).shape"
   ]
  },
  {
   "cell_type": "code",
   "execution_count": 143,
   "metadata": {},
   "outputs": [
    {
     "name": "stderr",
     "output_type": "stream",
     "text": [
      "Epoch [1/60]: 100%|██████████| 10/10 [00:00<00:00, 21.25it/s, loss=2.2e+5, lr=0.00512]\n"
     ]
    },
    {
     "name": "stdout",
     "output_type": "stream",
     "text": [
      "Epoch 1/60 finished with updated loss: 0.04565476156040807\n"
     ]
    },
    {
     "name": "stderr",
     "output_type": "stream",
     "text": [
      "Epoch [2/60]: 100%|██████████| 10/10 [00:00<00:00, 25.03it/s, loss=1.29e+5, lr=0.00512]\n"
     ]
    },
    {
     "name": "stdout",
     "output_type": "stream",
     "text": [
      "Epoch 2/60 finished with updated loss: 0.04566705756558153\n"
     ]
    },
    {
     "name": "stderr",
     "output_type": "stream",
     "text": [
      "Epoch [3/60]: 100%|██████████| 10/10 [00:00<00:00, 24.92it/s, loss=1.62e+5, lr=0.00512]\n"
     ]
    },
    {
     "name": "stdout",
     "output_type": "stream",
     "text": [
      "Epoch 3/60 finished with updated loss: 0.04567061450805158\n"
     ]
    },
    {
     "name": "stderr",
     "output_type": "stream",
     "text": [
      "Epoch [4/60]: 100%|██████████| 10/10 [00:00<00:00, 25.01it/s, loss=8.15e+4, lr=0.00512]\n"
     ]
    },
    {
     "name": "stdout",
     "output_type": "stream",
     "text": [
      "Epoch 4/60 finished with updated loss: 0.04567119360658099\n"
     ]
    },
    {
     "name": "stderr",
     "output_type": "stream",
     "text": [
      "Epoch [5/60]: 100%|██████████| 10/10 [00:00<00:00, 25.15it/s, loss=1.3e+5, lr=0.00512]\n"
     ]
    },
    {
     "name": "stdout",
     "output_type": "stream",
     "text": [
      "Epoch 5/60 finished with updated loss: 0.04567077833252352\n"
     ]
    },
    {
     "name": "stderr",
     "output_type": "stream",
     "text": [
      "Epoch [6/60]: 100%|██████████| 10/10 [00:00<00:00, 25.07it/s, loss=7.52e+4, lr=0.00512]\n"
     ]
    },
    {
     "name": "stdout",
     "output_type": "stream",
     "text": [
      "Epoch 6/60 finished with updated loss: 0.045670035411206816\n"
     ]
    },
    {
     "name": "stderr",
     "output_type": "stream",
     "text": [
      "Epoch [7/60]: 100%|██████████| 10/10 [00:00<00:00, 25.74it/s, loss=1.24e+5, lr=0.00512]\n"
     ]
    },
    {
     "name": "stdout",
     "output_type": "stream",
     "text": [
      "Epoch 7/60 finished with updated loss: 0.045669096363431944\n"
     ]
    },
    {
     "name": "stderr",
     "output_type": "stream",
     "text": [
      "Epoch [8/60]: 100%|██████████| 10/10 [00:00<00:00, 25.53it/s, loss=1.23e+5, lr=0.00512]\n"
     ]
    },
    {
     "name": "stdout",
     "output_type": "stream",
     "text": [
      "Epoch 8/60 finished with updated loss: 0.045668107549506474\n"
     ]
    },
    {
     "name": "stderr",
     "output_type": "stream",
     "text": [
      "Epoch [9/60]: 100%|██████████| 10/10 [00:00<00:00, 25.89it/s, loss=1.39e+5, lr=0.00512]\n"
     ]
    },
    {
     "name": "stdout",
     "output_type": "stream",
     "text": [
      "Epoch 9/60 finished with updated loss: 0.0456670692257468\n"
     ]
    },
    {
     "name": "stderr",
     "output_type": "stream",
     "text": [
      "Epoch [10/60]: 100%|██████████| 10/10 [00:00<00:00, 24.35it/s, loss=1.48e+5, lr=0.00512]\n"
     ]
    },
    {
     "name": "stdout",
     "output_type": "stream",
     "text": [
      "Epoch 10/60 finished with updated loss: 0.045666065689316984\n"
     ]
    },
    {
     "name": "stderr",
     "output_type": "stream",
     "text": [
      "Epoch [11/60]: 100%|██████████| 10/10 [00:00<00:00, 25.20it/s, loss=1.19e+5, lr=0.00512]\n"
     ]
    },
    {
     "name": "stdout",
     "output_type": "stream",
     "text": [
      "Epoch 11/60 finished with updated loss: 0.0456649892965067\n"
     ]
    },
    {
     "name": "stderr",
     "output_type": "stream",
     "text": [
      "Epoch [12/60]: 100%|██████████| 10/10 [00:00<00:00, 25.16it/s, loss=1.45e+5, lr=0.00512]\n"
     ]
    },
    {
     "name": "stdout",
     "output_type": "stream",
     "text": [
      "Epoch 12/60 finished with updated loss: 0.0456638974087699\n"
     ]
    },
    {
     "name": "stderr",
     "output_type": "stream",
     "text": [
      "Epoch [13/60]: 100%|██████████| 10/10 [00:00<00:00, 24.81it/s, loss=1.72e+5, lr=0.00512]\n"
     ]
    },
    {
     "name": "stdout",
     "output_type": "stream",
     "text": [
      "Epoch 13/60 finished with updated loss: 0.04566284190419093\n"
     ]
    },
    {
     "name": "stderr",
     "output_type": "stream",
     "text": [
      "Epoch [14/60]: 100%|██████████| 10/10 [00:00<00:00, 24.98it/s, loss=1.26e+5, lr=0.00512]\n"
     ]
    },
    {
     "name": "stdout",
     "output_type": "stream",
     "text": [
      "Epoch 14/60 finished with updated loss: 0.04566181189471811\n"
     ]
    },
    {
     "name": "stderr",
     "output_type": "stream",
     "text": [
      "Epoch [15/60]: 100%|██████████| 10/10 [00:00<00:00, 25.24it/s, loss=1.35e+5, lr=0.00512]\n"
     ]
    },
    {
     "name": "stdout",
     "output_type": "stream",
     "text": [
      "Epoch 15/60 finished with updated loss: 0.0456607176827179\n"
     ]
    },
    {
     "name": "stderr",
     "output_type": "stream",
     "text": [
      "Epoch [16/60]: 100%|██████████| 10/10 [00:00<00:00, 25.22it/s, loss=8.7e+4, lr=0.0041]\n"
     ]
    },
    {
     "name": "stdout",
     "output_type": "stream",
     "text": [
      "Epoch 16/60 finished with updated loss: 0.0456598053919406\n"
     ]
    },
    {
     "name": "stderr",
     "output_type": "stream",
     "text": [
      "Epoch [17/60]: 100%|██████████| 10/10 [00:00<00:00, 23.41it/s, loss=1.2e+5, lr=0.0041]\n"
     ]
    },
    {
     "name": "stdout",
     "output_type": "stream",
     "text": [
      "Epoch 17/60 finished with updated loss: 0.04565892243762162\n"
     ]
    },
    {
     "name": "stderr",
     "output_type": "stream",
     "text": [
      "Epoch [18/60]: 100%|██████████| 10/10 [00:00<00:00, 25.29it/s, loss=1.04e+5, lr=0.0041]\n"
     ]
    },
    {
     "name": "stdout",
     "output_type": "stream",
     "text": [
      "Epoch 18/60 finished with updated loss: 0.04565799786552339\n"
     ]
    },
    {
     "name": "stderr",
     "output_type": "stream",
     "text": [
      "Epoch [19/60]: 100%|██████████| 10/10 [00:00<00:00, 25.98it/s, loss=8.55e+4, lr=0.0041]\n"
     ]
    },
    {
     "name": "stdout",
     "output_type": "stream",
     "text": [
      "Epoch 19/60 finished with updated loss: 0.04565712304554895\n"
     ]
    },
    {
     "name": "stderr",
     "output_type": "stream",
     "text": [
      "Epoch [20/60]: 100%|██████████| 10/10 [00:00<00:00, 25.34it/s, loss=1.61e+5, lr=0.0041]\n"
     ]
    },
    {
     "name": "stdout",
     "output_type": "stream",
     "text": [
      "Epoch 20/60 finished with updated loss: 0.04565619696296641\n"
     ]
    },
    {
     "name": "stderr",
     "output_type": "stream",
     "text": [
      "Epoch [21/60]: 100%|██████████| 10/10 [00:00<00:00, 24.23it/s, loss=1.28e+5, lr=0.0041]\n"
     ]
    },
    {
     "name": "stdout",
     "output_type": "stream",
     "text": [
      "Epoch 21/60 finished with updated loss: 0.04565535031886602\n"
     ]
    },
    {
     "name": "stderr",
     "output_type": "stream",
     "text": [
      "Epoch [22/60]: 100%|██████████| 10/10 [00:00<00:00, 25.50it/s, loss=1.46e+5, lr=0.0041]\n"
     ]
    },
    {
     "name": "stdout",
     "output_type": "stream",
     "text": [
      "Epoch 22/60 finished with updated loss: 0.045654434209267694\n"
     ]
    },
    {
     "name": "stderr",
     "output_type": "stream",
     "text": [
      "Epoch [23/60]: 100%|██████████| 10/10 [00:00<00:00, 24.88it/s, loss=1.58e+5, lr=0.0041]\n"
     ]
    },
    {
     "name": "stdout",
     "output_type": "stream",
     "text": [
      "Epoch 23/60 finished with updated loss: 0.045653521464008584\n"
     ]
    },
    {
     "name": "stderr",
     "output_type": "stream",
     "text": [
      "Epoch [24/60]: 100%|██████████| 10/10 [00:00<00:00, 25.54it/s, loss=1.2e+5, lr=0.0041]\n"
     ]
    },
    {
     "name": "stdout",
     "output_type": "stream",
     "text": [
      "Epoch 24/60 finished with updated loss: 0.045652641719957206\n"
     ]
    },
    {
     "name": "stderr",
     "output_type": "stream",
     "text": [
      "Epoch [25/60]: 100%|██████████| 10/10 [00:00<00:00, 25.79it/s, loss=8.93e+4, lr=0.0041]\n"
     ]
    },
    {
     "name": "stdout",
     "output_type": "stream",
     "text": [
      "Epoch 25/60 finished with updated loss: 0.04565170762488471\n"
     ]
    },
    {
     "name": "stderr",
     "output_type": "stream",
     "text": [
      "Epoch [26/60]: 100%|██████████| 10/10 [00:00<00:00, 25.13it/s, loss=1.18e+5, lr=0.0041]\n"
     ]
    },
    {
     "name": "stdout",
     "output_type": "stream",
     "text": [
      "Epoch 26/60 finished with updated loss: 0.04565072026041702\n"
     ]
    },
    {
     "name": "stderr",
     "output_type": "stream",
     "text": [
      "Epoch [27/60]: 100%|██████████| 10/10 [00:00<00:00, 25.81it/s, loss=1.43e+5, lr=0.0041]\n"
     ]
    },
    {
     "name": "stdout",
     "output_type": "stream",
     "text": [
      "Epoch 27/60 finished with updated loss: 0.045649766258145694\n"
     ]
    },
    {
     "name": "stderr",
     "output_type": "stream",
     "text": [
      "Epoch [28/60]: 100%|██████████| 10/10 [00:00<00:00, 25.79it/s, loss=7.77e+4, lr=0.0041]\n"
     ]
    },
    {
     "name": "stdout",
     "output_type": "stream",
     "text": [
      "Epoch 28/60 finished with updated loss: 0.04564884750053037\n"
     ]
    },
    {
     "name": "stderr",
     "output_type": "stream",
     "text": [
      "Epoch [29/60]: 100%|██████████| 10/10 [00:00<00:00, 25.73it/s, loss=1.39e+5, lr=0.0041]\n"
     ]
    },
    {
     "name": "stdout",
     "output_type": "stream",
     "text": [
      "Epoch 29/60 finished with updated loss: 0.04564786243895738\n"
     ]
    },
    {
     "name": "stderr",
     "output_type": "stream",
     "text": [
      "Epoch [30/60]: 100%|██████████| 10/10 [00:00<00:00, 25.50it/s, loss=9.25e+4, lr=0.0041]\n"
     ]
    },
    {
     "name": "stdout",
     "output_type": "stream",
     "text": [
      "Epoch 30/60 finished with updated loss: 0.04564689959805037\n"
     ]
    },
    {
     "name": "stderr",
     "output_type": "stream",
     "text": [
      "Epoch [31/60]: 100%|██████████| 10/10 [00:00<00:00, 24.00it/s, loss=1.22e+5, lr=0.0041]\n"
     ]
    },
    {
     "name": "stdout",
     "output_type": "stream",
     "text": [
      "Epoch 31/60 finished with updated loss: 0.04564588660793209\n"
     ]
    },
    {
     "name": "stderr",
     "output_type": "stream",
     "text": [
      "Epoch [32/60]: 100%|██████████| 10/10 [00:00<00:00, 25.41it/s, loss=8.08e+4, lr=0.0041]\n"
     ]
    },
    {
     "name": "stdout",
     "output_type": "stream",
     "text": [
      "Epoch 32/60 finished with updated loss: 0.04564490613733889\n"
     ]
    },
    {
     "name": "stderr",
     "output_type": "stream",
     "text": [
      "Epoch [33/60]: 100%|██████████| 10/10 [00:00<00:00, 21.05it/s, loss=1.18e+5, lr=0.0041]\n"
     ]
    },
    {
     "name": "stdout",
     "output_type": "stream",
     "text": [
      "Epoch 33/60 finished with updated loss: 0.04564391761521113\n"
     ]
    },
    {
     "name": "stderr",
     "output_type": "stream",
     "text": [
      "Epoch [34/60]: 100%|██████████| 10/10 [00:00<00:00, 25.26it/s, loss=1.06e+5, lr=0.0041]\n"
     ]
    },
    {
     "name": "stdout",
     "output_type": "stream",
     "text": [
      "Epoch 34/60 finished with updated loss: 0.04564293505822493\n"
     ]
    },
    {
     "name": "stderr",
     "output_type": "stream",
     "text": [
      "Epoch [35/60]: 100%|██████████| 10/10 [00:00<00:00, 25.32it/s, loss=1.49e+5, lr=0.0041]\n"
     ]
    },
    {
     "name": "stdout",
     "output_type": "stream",
     "text": [
      "Epoch 35/60 finished with updated loss: 0.0456419618238216\n"
     ]
    },
    {
     "name": "stderr",
     "output_type": "stream",
     "text": [
      "Epoch [36/60]: 100%|██████████| 10/10 [00:00<00:00, 26.17it/s, loss=1.29e+5, lr=0.0041]\n"
     ]
    },
    {
     "name": "stdout",
     "output_type": "stream",
     "text": [
      "Epoch 36/60 finished with updated loss: 0.0456409483110413\n"
     ]
    },
    {
     "name": "stderr",
     "output_type": "stream",
     "text": [
      "Epoch [37/60]: 100%|██████████| 10/10 [00:00<00:00, 26.23it/s, loss=1.16e+5, lr=0.00328]\n"
     ]
    },
    {
     "name": "stdout",
     "output_type": "stream",
     "text": [
      "Epoch 37/60 finished with updated loss: 0.0456401644025612\n"
     ]
    },
    {
     "name": "stderr",
     "output_type": "stream",
     "text": [
      "Epoch [38/60]: 100%|██████████| 10/10 [00:00<00:00, 26.06it/s, loss=1.31e+5, lr=0.00328]\n"
     ]
    },
    {
     "name": "stdout",
     "output_type": "stream",
     "text": [
      "Epoch 38/60 finished with updated loss: 0.04563934107225619\n"
     ]
    },
    {
     "name": "stderr",
     "output_type": "stream",
     "text": [
      "Epoch [39/60]: 100%|██████████| 10/10 [00:00<00:00, 25.59it/s, loss=7.88e+4, lr=0.00328]\n"
     ]
    },
    {
     "name": "stdout",
     "output_type": "stream",
     "text": [
      "Epoch 39/60 finished with updated loss: 0.045638486102124225\n"
     ]
    },
    {
     "name": "stderr",
     "output_type": "stream",
     "text": [
      "Epoch [40/60]: 100%|██████████| 10/10 [00:00<00:00, 25.18it/s, loss=7.82e+4, lr=0.00328]\n"
     ]
    },
    {
     "name": "stdout",
     "output_type": "stream",
     "text": [
      "Epoch 40/60 finished with updated loss: 0.045637610221544785\n"
     ]
    },
    {
     "name": "stderr",
     "output_type": "stream",
     "text": [
      "Epoch [41/60]: 100%|██████████| 10/10 [00:00<00:00, 25.55it/s, loss=2.06e+5, lr=0.00328]\n"
     ]
    },
    {
     "name": "stdout",
     "output_type": "stream",
     "text": [
      "Epoch 41/60 finished with updated loss: 0.0456367611509957\n"
     ]
    },
    {
     "name": "stderr",
     "output_type": "stream",
     "text": [
      "Epoch [42/60]: 100%|██████████| 10/10 [00:00<00:00, 25.94it/s, loss=1.07e+5, lr=0.00328]\n"
     ]
    },
    {
     "name": "stdout",
     "output_type": "stream",
     "text": [
      "Epoch 42/60 finished with updated loss: 0.04563591904472721\n"
     ]
    },
    {
     "name": "stderr",
     "output_type": "stream",
     "text": [
      "Epoch [43/60]: 100%|██████████| 10/10 [00:00<00:00, 23.35it/s, loss=1.56e+5, lr=0.00328]\n"
     ]
    },
    {
     "name": "stdout",
     "output_type": "stream",
     "text": [
      "Epoch 43/60 finished with updated loss: 0.04563506779826151\n"
     ]
    },
    {
     "name": "stderr",
     "output_type": "stream",
     "text": [
      "Epoch [44/60]: 100%|██████████| 10/10 [00:00<00:00, 25.96it/s, loss=8.28e+4, lr=0.00328]\n"
     ]
    },
    {
     "name": "stdout",
     "output_type": "stream",
     "text": [
      "Epoch 44/60 finished with updated loss: 0.045634281652011645\n"
     ]
    },
    {
     "name": "stderr",
     "output_type": "stream",
     "text": [
      "Epoch [45/60]: 100%|██████████| 10/10 [00:00<00:00, 25.66it/s, loss=9.62e+4, lr=0.00328]\n"
     ]
    },
    {
     "name": "stdout",
     "output_type": "stream",
     "text": [
      "Epoch 45/60 finished with updated loss: 0.04563341311500357\n"
     ]
    },
    {
     "name": "stderr",
     "output_type": "stream",
     "text": [
      "Epoch [46/60]: 100%|██████████| 10/10 [00:00<00:00, 25.77it/s, loss=9.4e+4, lr=0.00328]\n"
     ]
    },
    {
     "name": "stdout",
     "output_type": "stream",
     "text": [
      "Epoch 46/60 finished with updated loss: 0.04563257524538203\n"
     ]
    },
    {
     "name": "stderr",
     "output_type": "stream",
     "text": [
      "Epoch [47/60]: 100%|██████████| 10/10 [00:00<00:00, 25.54it/s, loss=1.3e+5, lr=0.00328]\n"
     ]
    },
    {
     "name": "stdout",
     "output_type": "stream",
     "text": [
      "Epoch 47/60 finished with updated loss: 0.04563171851382181\n"
     ]
    },
    {
     "name": "stderr",
     "output_type": "stream",
     "text": [
      "Epoch [48/60]: 100%|██████████| 10/10 [00:00<00:00, 25.33it/s, loss=1.14e+5, lr=0.00328]\n"
     ]
    },
    {
     "name": "stdout",
     "output_type": "stream",
     "text": [
      "Epoch 48/60 finished with updated loss: 0.045630867715353365\n"
     ]
    },
    {
     "name": "stderr",
     "output_type": "stream",
     "text": [
      "Epoch [49/60]: 100%|██████████| 10/10 [00:00<00:00, 25.69it/s, loss=1.71e+5, lr=0.00328]\n"
     ]
    },
    {
     "name": "stdout",
     "output_type": "stream",
     "text": [
      "Epoch 49/60 finished with updated loss: 0.04562997019236576\n"
     ]
    },
    {
     "name": "stderr",
     "output_type": "stream",
     "text": [
      "Epoch [50/60]: 100%|██████████| 10/10 [00:00<00:00, 25.29it/s, loss=1.23e+5, lr=0.00328]\n"
     ]
    },
    {
     "name": "stdout",
     "output_type": "stream",
     "text": [
      "Epoch 50/60 finished with updated loss: 0.04562908564300652\n"
     ]
    },
    {
     "name": "stderr",
     "output_type": "stream",
     "text": [
      "Epoch [51/60]: 100%|██████████| 10/10 [00:00<00:00, 25.71it/s, loss=1.87e+5, lr=0.00328]\n"
     ]
    },
    {
     "name": "stdout",
     "output_type": "stream",
     "text": [
      "Epoch 51/60 finished with updated loss: 0.04562820057009509\n"
     ]
    },
    {
     "name": "stderr",
     "output_type": "stream",
     "text": [
      "Epoch [52/60]: 100%|██████████| 10/10 [00:00<00:00, 22.63it/s, loss=9.53e+4, lr=0.00328]\n"
     ]
    },
    {
     "name": "stdout",
     "output_type": "stream",
     "text": [
      "Epoch 52/60 finished with updated loss: 0.04562732477196946\n"
     ]
    },
    {
     "name": "stderr",
     "output_type": "stream",
     "text": [
      "Epoch [53/60]: 100%|██████████| 10/10 [00:00<00:00, 21.28it/s, loss=1.21e+5, lr=0.00328]\n"
     ]
    },
    {
     "name": "stdout",
     "output_type": "stream",
     "text": [
      "Epoch 53/60 finished with updated loss: 0.045626404700288385\n"
     ]
    },
    {
     "name": "stderr",
     "output_type": "stream",
     "text": [
      "Epoch [54/60]: 100%|██████████| 10/10 [00:00<00:00, 21.49it/s, loss=9.18e+4, lr=0.00328]\n"
     ]
    },
    {
     "name": "stdout",
     "output_type": "stream",
     "text": [
      "Epoch 54/60 finished with updated loss: 0.04562548158187839\n"
     ]
    },
    {
     "name": "stderr",
     "output_type": "stream",
     "text": [
      "Epoch [55/60]: 100%|██████████| 10/10 [00:00<00:00, 25.93it/s, loss=1.33e+5, lr=0.00328]\n"
     ]
    },
    {
     "name": "stdout",
     "output_type": "stream",
     "text": [
      "Epoch 55/60 finished with updated loss: 0.04562457776189833\n"
     ]
    },
    {
     "name": "stderr",
     "output_type": "stream",
     "text": [
      "Epoch [56/60]: 100%|██████████| 10/10 [00:00<00:00, 25.70it/s, loss=1.14e+5, lr=0.00328]\n"
     ]
    },
    {
     "name": "stdout",
     "output_type": "stream",
     "text": [
      "Epoch 56/60 finished with updated loss: 0.04562366154358531\n"
     ]
    },
    {
     "name": "stderr",
     "output_type": "stream",
     "text": [
      "Epoch [57/60]: 100%|██████████| 10/10 [00:00<00:00, 25.62it/s, loss=1.42e+5, lr=0.00328]\n"
     ]
    },
    {
     "name": "stdout",
     "output_type": "stream",
     "text": [
      "Epoch 57/60 finished with updated loss: 0.045622683193219035\n"
     ]
    },
    {
     "name": "stderr",
     "output_type": "stream",
     "text": [
      "Epoch [58/60]:  50%|█████     | 5/10 [00:00<00:00, 21.79it/s, loss=9.92e+4, lr=0.00262]\n"
     ]
    },
    {
     "ename": "KeyboardInterrupt",
     "evalue": "",
     "output_type": "error",
     "traceback": [
      "\u001b[0;31m---------------------------------------------------------------------------\u001b[0m",
      "\u001b[0;31mKeyboardInterrupt\u001b[0m                         Traceback (most recent call last)",
      "Cell \u001b[0;32mIn[143], line 30\u001b[0m\n\u001b[1;32m     28\u001b[0m \u001b[38;5;66;03m# Zero gradients, perform a backward pass, and update the weights.\u001b[39;00m\n\u001b[1;32m     29\u001b[0m optimizer\u001b[38;5;241m.\u001b[39mzero_grad()\n\u001b[0;32m---> 30\u001b[0m \u001b[43mloss\u001b[49m\u001b[38;5;241;43m.\u001b[39;49m\u001b[43mbackward\u001b[49m\u001b[43m(\u001b[49m\u001b[43m)\u001b[49m\n\u001b[1;32m     31\u001b[0m optimizer\u001b[38;5;241m.\u001b[39mstep()\n\u001b[1;32m     33\u001b[0m \u001b[38;5;66;03m# Collect loss for this batch\u001b[39;00m\n",
      "File \u001b[0;32m~/Enviroments/env_hydra/lib/python3.10/site-packages/torch/_tensor.py:522\u001b[0m, in \u001b[0;36mTensor.backward\u001b[0;34m(self, gradient, retain_graph, create_graph, inputs)\u001b[0m\n\u001b[1;32m    512\u001b[0m \u001b[38;5;28;01mif\u001b[39;00m has_torch_function_unary(\u001b[38;5;28mself\u001b[39m):\n\u001b[1;32m    513\u001b[0m     \u001b[38;5;28;01mreturn\u001b[39;00m handle_torch_function(\n\u001b[1;32m    514\u001b[0m         Tensor\u001b[38;5;241m.\u001b[39mbackward,\n\u001b[1;32m    515\u001b[0m         (\u001b[38;5;28mself\u001b[39m,),\n\u001b[0;32m   (...)\u001b[0m\n\u001b[1;32m    520\u001b[0m         inputs\u001b[38;5;241m=\u001b[39minputs,\n\u001b[1;32m    521\u001b[0m     )\n\u001b[0;32m--> 522\u001b[0m \u001b[43mtorch\u001b[49m\u001b[38;5;241;43m.\u001b[39;49m\u001b[43mautograd\u001b[49m\u001b[38;5;241;43m.\u001b[39;49m\u001b[43mbackward\u001b[49m\u001b[43m(\u001b[49m\n\u001b[1;32m    523\u001b[0m \u001b[43m    \u001b[49m\u001b[38;5;28;43mself\u001b[39;49m\u001b[43m,\u001b[49m\u001b[43m \u001b[49m\u001b[43mgradient\u001b[49m\u001b[43m,\u001b[49m\u001b[43m \u001b[49m\u001b[43mretain_graph\u001b[49m\u001b[43m,\u001b[49m\u001b[43m \u001b[49m\u001b[43mcreate_graph\u001b[49m\u001b[43m,\u001b[49m\u001b[43m \u001b[49m\u001b[43minputs\u001b[49m\u001b[38;5;241;43m=\u001b[39;49m\u001b[43minputs\u001b[49m\n\u001b[1;32m    524\u001b[0m \u001b[43m\u001b[49m\u001b[43m)\u001b[49m\n",
      "File \u001b[0;32m~/Enviroments/env_hydra/lib/python3.10/site-packages/torch/autograd/__init__.py:266\u001b[0m, in \u001b[0;36mbackward\u001b[0;34m(tensors, grad_tensors, retain_graph, create_graph, grad_variables, inputs)\u001b[0m\n\u001b[1;32m    261\u001b[0m     retain_graph \u001b[38;5;241m=\u001b[39m create_graph\n\u001b[1;32m    263\u001b[0m \u001b[38;5;66;03m# The reason we repeat the same comment below is that\u001b[39;00m\n\u001b[1;32m    264\u001b[0m \u001b[38;5;66;03m# some Python versions print out the first line of a multi-line function\u001b[39;00m\n\u001b[1;32m    265\u001b[0m \u001b[38;5;66;03m# calls in the traceback and some print out the last line\u001b[39;00m\n\u001b[0;32m--> 266\u001b[0m \u001b[43mVariable\u001b[49m\u001b[38;5;241;43m.\u001b[39;49m\u001b[43m_execution_engine\u001b[49m\u001b[38;5;241;43m.\u001b[39;49m\u001b[43mrun_backward\u001b[49m\u001b[43m(\u001b[49m\u001b[43m  \u001b[49m\u001b[38;5;66;43;03m# Calls into the C++ engine to run the backward pass\u001b[39;49;00m\n\u001b[1;32m    267\u001b[0m \u001b[43m    \u001b[49m\u001b[43mtensors\u001b[49m\u001b[43m,\u001b[49m\n\u001b[1;32m    268\u001b[0m \u001b[43m    \u001b[49m\u001b[43mgrad_tensors_\u001b[49m\u001b[43m,\u001b[49m\n\u001b[1;32m    269\u001b[0m \u001b[43m    \u001b[49m\u001b[43mretain_graph\u001b[49m\u001b[43m,\u001b[49m\n\u001b[1;32m    270\u001b[0m \u001b[43m    \u001b[49m\u001b[43mcreate_graph\u001b[49m\u001b[43m,\u001b[49m\n\u001b[1;32m    271\u001b[0m \u001b[43m    \u001b[49m\u001b[43minputs\u001b[49m\u001b[43m,\u001b[49m\n\u001b[1;32m    272\u001b[0m \u001b[43m    \u001b[49m\u001b[43mallow_unreachable\u001b[49m\u001b[38;5;241;43m=\u001b[39;49m\u001b[38;5;28;43;01mTrue\u001b[39;49;00m\u001b[43m,\u001b[49m\n\u001b[1;32m    273\u001b[0m \u001b[43m    \u001b[49m\u001b[43maccumulate_grad\u001b[49m\u001b[38;5;241;43m=\u001b[39;49m\u001b[38;5;28;43;01mTrue\u001b[39;49;00m\u001b[43m,\u001b[49m\n\u001b[1;32m    274\u001b[0m \u001b[43m\u001b[49m\u001b[43m)\u001b[49m\n",
      "\u001b[0;31mKeyboardInterrupt\u001b[0m: "
     ]
    }
   ],
   "source": [
    "# Number of training epochs\n",
    "# Koopman_model.to('cuda:0')\n",
    "\n",
    "\n",
    "num_epochs = 60\n",
    "loss_history = []\n",
    "T = 2\n",
    "for epoch in range(num_epochs):\n",
    "    loop = tqdm(data_loader, leave=True)\n",
    "    epoch_losses = []\n",
    "    for x in loop:\n",
    "        # x shape: (n_traj, traj_length, state_dim)\n",
    "        \n",
    "        # output_pred = Koopman_model(x_curr)\n",
    "\n",
    "        # output_next = Koopman_model.dict(x_next)\n",
    "\n",
    "        psi = Koopman_model.dict(x[0])\n",
    "        target = 0\n",
    "        for i in range(L-T):\n",
    "            for j in range(T):\n",
    "                target += torch.linalg.norm(psi[:,i+j,:]-psi[:,i,:]@torch.matrix_power(Koopman_model.model_K.K, j))\n",
    "        \n",
    "        zero = torch.zeros_like(target)\n",
    "        # Compute the loss\n",
    "        loss = loss_function(target, zero)\n",
    "\n",
    "        # Zero gradients, perform a backward pass, and update the weights.\n",
    "        optimizer.zero_grad()\n",
    "        loss.backward()\n",
    "        optimizer.step()\n",
    "\n",
    "        # Collect loss for this batch\n",
    "        epoch_losses.append(loss.item())\n",
    "\n",
    "        current_lr = optimizer.param_groups[0]['lr']\n",
    "\n",
    "        # Update progress bar with current loss.\n",
    "        loop.set_description(f\"Epoch [{epoch+1}/{num_epochs}]\")\n",
    "        loop.set_postfix(loss=loss.item(), lr=current_lr)\n",
    "\n",
    "    # Average loss for this epoch\n",
    "    average_epoch_loss = sum(epoch_losses) / len(epoch_losses)\n",
    "    loss_history.append(average_epoch_loss)\n",
    "\n",
    "    # # Update the weights of model_K with the pinverse method\n",
    "    # psi_x = dict_nn(duffing_data_curr)\n",
    "    # psi_y = dict_nn(duffing_data_next)\n",
    "    # psi_curr_pinv = torch.pinverse(psi_x)\n",
    "    # K_weights = torch.matmul(psi_curr_pinv, psi_y)\n",
    "    # model_K.K.data = K_weights\n",
    "\n",
    "    duffing_data_curr = duffing_data[:,:-1,:]\n",
    "    duffing_data_next = duffing_data[:,1:,:]\n",
    "    duffing_data_curr = duffing_data_curr.reshape(-1, duffing_data_curr.shape[-1])\n",
    "    duffing_data_next = duffing_data_next.reshape(-1, duffing_data_next.shape[-1])\n",
    "\n",
    "\n",
    "\n",
    "    K_weights = compute_K(Koopman_model.dict, \n",
    "                          duffing_data_curr, \n",
    "                          duffing_data_next, \n",
    "                          reg=0.01)\n",
    "    Koopman_model.model_K.K.data = K_weights\n",
    "\n",
    "    # Perform a forward pass with the updated model_K to compute the loss for the epoch\n",
    "    with torch.no_grad():\n",
    "        output_curr = Koopman_model.dict(duffing_data[:,:-1,:]).detach()\n",
    "        output_next = Koopman_model.dict(duffing_data[:,1:,:]).detach()\n",
    "        output_pred = Koopman_model.model_K(output_curr).detach()\n",
    "        loss_total = loss_function(output_next, output_pred)\n",
    "\n",
    "    # Update learning rate based on total loss at the end of epoch\n",
    "    # scheduler.step(average_epoch_loss)\n",
    "    scheduler.step(loss_total)\n",
    "\n",
    "\n",
    "    # Print the loss at the end of each epoch using tqdm.write to avoid breaking the progress bar layout\n",
    "    tqdm.write(f\"Epoch {epoch + 1}/{num_epochs} finished with updated loss: {loss_total.item()}\")\n"
   ]
  },
  {
   "cell_type": "code",
   "execution_count": 20,
   "metadata": {},
   "outputs": [
    {
     "name": "stdout",
     "output_type": "stream",
     "text": [
      "Layer: K | Size: torch.Size([25, 25]) | Values : Parameter containing:\n",
      "tensor([[ 9.9012e-01, -8.0002e-03, -1.8551e-01, -1.1452e-01,  3.2988e-02,\n",
      "         -1.1358e-01,  8.9484e-02,  8.0755e-03,  2.8811e-02, -1.1472e-01,\n",
      "          7.3820e-02, -1.5239e-02,  1.2248e-02,  9.5875e-02, -9.3526e-02,\n",
      "         -1.4098e-01, -8.2308e-02,  4.2814e-02, -8.9585e-02, -1.4199e-01,\n",
      "         -9.2881e-02,  6.5460e-02,  9.4585e-02,  2.7858e-02,  1.6359e-01],\n",
      "        [ 2.9153e-02,  5.5524e-01, -1.4311e+00, -1.4702e-01,  6.1704e-01,\n",
      "         -1.3619e-01, -3.5261e-01,  5.6965e-01, -1.2024e-01, -4.1656e-01,\n",
      "          3.0975e-01, -7.9229e-01, -1.2398e-01,  1.0000e-01, -6.7074e-01,\n",
      "         -8.7966e-01, -3.1772e-01, -3.8351e-02,  2.3532e-01, -6.6132e-01,\n",
      "         -6.3249e-01,  7.4868e-01,  1.7126e-01, -1.4474e-01, -3.1611e-01],\n",
      "        [-7.6106e-05,  1.8803e-01,  5.1094e-01,  1.0141e-01, -2.6637e-02,\n",
      "          6.5212e-02, -1.6510e-01,  3.1897e-01, -2.6372e-01,  1.4910e-01,\n",
      "         -5.0287e-01, -2.2377e-01, -2.0927e-01, -1.7195e-01, -4.5127e-01,\n",
      "          2.6758e-01, -6.3447e-02, -4.8605e-01, -1.4568e-01, -1.9780e-02,\n",
      "         -1.5373e-01,  3.6507e-01, -2.3304e-01,  3.9386e-01, -1.4344e-01],\n",
      "        [-2.1567e-02, -6.4023e-02, -1.4205e+00, -3.8242e-01,  2.1821e-01,\n",
      "         -2.3687e-01, -1.5778e-01,  7.7528e-01,  9.4845e-02, -5.0514e-01,\n",
      "          1.3481e-01, -4.4432e-01, -3.2768e-01,  1.2038e-01, -5.0828e-01,\n",
      "         -5.7827e-01, -2.3052e-01, -2.1819e-01, -8.2084e-02, -6.3028e-01,\n",
      "         -3.7197e-01,  2.4502e-01, -4.1685e-02,  1.4971e-01, -1.4192e-01],\n",
      "        [ 3.0376e-02, -1.7528e-01, -1.3887e+00, -3.4310e-02,  8.5711e-01,\n",
      "          3.5032e-01, -6.1866e-01,  1.0361e+00,  4.2268e-01, -2.7120e-01,\n",
      "         -1.7505e-01, -5.4397e-03, -6.5268e-01, -1.4327e-01, -1.6009e-01,\n",
      "         -2.2127e-01,  8.5761e-02, -5.1532e-01,  3.9502e-01, -1.8764e-02,\n",
      "         -3.7218e-01,  4.0443e-01, -2.6015e-01,  4.4266e-01, -5.4072e-01],\n",
      "        [ 4.1736e-03,  4.4492e-01,  2.5139e+00,  6.0100e-01, -4.8942e-01,\n",
      "          3.4554e-01,  7.9407e-01, -8.3596e-01, -1.3051e+00,  9.9943e-01,\n",
      "         -2.4065e-01, -6.5735e-01,  5.9486e-01, -6.0195e-01, -2.7310e-01,\n",
      "          4.7694e-01, -1.2284e-01, -3.3904e-01, -6.1835e-01,  5.0440e-01,\n",
      "          2.6342e-01,  3.3678e-01,  8.2237e-02, -9.2036e-02,  1.2707e-01],\n",
      "        [ 1.3094e-02,  7.3735e-02,  1.3379e+00,  4.8447e-01, -2.5636e-01,\n",
      "          2.4305e-01,  5.6747e-01, -5.4044e-01, -3.2177e-01,  4.8034e-01,\n",
      "          1.3278e-01,  3.2902e-01,  1.9341e-01, -3.8398e-01,  3.3351e-01,\n",
      "          6.1292e-01,  1.6784e-01,  2.1119e-01, -6.5725e-03,  6.9923e-01,\n",
      "          2.1511e-01, -1.4765e-01,  1.4486e-03, -3.0607e-01,  2.2115e-01],\n",
      "        [-1.6654e-02, -5.6034e-02,  5.9485e-01,  7.9910e-03, -3.1086e-01,\n",
      "          6.6795e-02,  7.7530e-02,  2.9464e-01, -1.1471e-01,  3.1484e-02,\n",
      "         -4.0102e-01,  1.9549e-01, -1.9796e-01, -1.6359e-01,  1.7148e-01,\n",
      "          4.3745e-01,  1.9548e-01,  9.5676e-02, -1.6529e-01,  1.4138e-01,\n",
      "          1.8987e-01, -1.9848e-01, -2.7220e-01,  1.6694e-01,  6.2422e-02],\n",
      "        [ 5.1050e-03, -4.2081e-01, -2.5130e+00, -5.5425e-01,  3.8338e-01,\n",
      "         -5.5585e-01, -2.1947e-01,  6.7704e-01,  1.2163e+00, -7.2836e-01,\n",
      "          5.9980e-01, -3.0591e-02, -1.3258e-01,  6.8321e-01, -8.5888e-01,\n",
      "         -1.4294e+00, -6.1772e-01,  1.7054e-01,  1.1135e-01, -1.2648e+00,\n",
      "         -8.7105e-01,  6.5441e-01,  7.6811e-01,  1.9665e-01,  6.9560e-01],\n",
      "        [-5.9885e-03, -6.0287e-01, -3.8709e+00, -8.2277e-01,  8.2187e-01,\n",
      "         -1.8675e-01, -7.4963e-01,  1.9060e+00,  9.8456e-01, -9.5835e-01,\n",
      "          4.3276e-01, -7.0968e-01, -9.4101e-01,  4.2571e-01, -1.0151e+00,\n",
      "         -2.0213e+00, -4.6621e-01, -2.6402e-01,  1.1464e-01, -1.3592e+00,\n",
      "         -1.0766e+00,  8.8562e-01,  7.7847e-02,  4.8696e-01, -3.2739e-01],\n",
      "        [-6.8136e-03, -7.0907e-02,  1.0688e-01, -1.4185e-01, -2.7379e-01,\n",
      "         -2.6010e-01,  3.3445e-01, -1.5999e-01, -3.0698e-01,  2.0020e-02,\n",
      "          2.7582e-01, -1.4036e-01,  4.2540e-02,  1.2153e-01, -3.2750e-01,\n",
      "          1.6494e-01, -1.7675e-01, -2.2565e-01, -1.5448e-01, -5.3430e-02,\n",
      "         -1.6847e-01, -1.6461e-01, -1.1964e-02, -1.0394e-04, -3.5063e-02],\n",
      "        [-2.9100e-04,  2.6534e-01,  1.8752e+00,  7.8282e-01,  9.2594e-02,\n",
      "          9.5302e-01, -2.1308e-01, -5.5834e-01, -4.4133e-01,  8.0609e-01,\n",
      "         -4.6335e-01,  5.4846e-01,  4.4616e-02, -6.1891e-01,  1.0786e+00,\n",
      "          1.1266e+00,  6.5817e-01, -2.2498e-01,  2.4407e-01,  1.4236e+00,\n",
      "          6.1683e-01, -3.6317e-01, -5.8687e-01, -1.8685e-01, -8.5097e-01],\n",
      "        [-1.7405e-02, -2.0400e-01, -2.1683e+00, -4.5992e-01,  6.9492e-01,\n",
      "          7.4701e-02, -8.1334e-01,  1.2934e+00,  2.5058e-01, -6.1758e-01,\n",
      "         -1.3145e-02, -6.5796e-01, -7.1843e-01,  5.3681e-02, -2.8481e-01,\n",
      "         -9.3636e-01, -1.0878e-01, -3.6706e-01,  2.1042e-01, -4.5415e-01,\n",
      "         -3.3224e-01,  4.0026e-01, -2.8055e-01,  3.5448e-01, -7.3051e-01],\n",
      "        [ 3.1052e-02, -3.1262e-01, -1.9737e+00, -4.6086e-01,  6.0304e-01,\n",
      "          1.0106e-01, -8.1425e-01,  9.8588e-01,  5.1535e-01, -4.8952e-01,\n",
      "         -4.0974e-02, -2.3717e-01, -5.8208e-01,  3.2733e-01, -1.7878e-01,\n",
      "         -8.1989e-01,  6.1413e-02, -1.6064e-01,  3.3626e-01, -4.2470e-01,\n",
      "         -3.9853e-01,  1.7155e-01, -1.9284e-01,  3.2034e-01, -7.1475e-01],\n",
      "        [ 2.7802e-03,  1.6682e-02,  5.1817e-01,  1.8246e-01,  1.9463e-01,\n",
      "          3.6715e-01, -2.6006e-01, -1.1425e-01, -4.5746e-02,  3.1177e-01,\n",
      "         -3.3701e-01,  1.7831e-01,  1.1332e-02, -1.7286e-01,  8.7802e-01,\n",
      "          4.9443e-01,  4.1440e-01, -5.2624e-02,  4.4339e-02,  4.5515e-01,\n",
      "          4.0272e-01, -3.8818e-01, -3.5289e-01, -5.4633e-02, -5.4389e-01],\n",
      "        [-8.7662e-03,  5.7213e-02, -4.3675e-01, -1.7314e-01,  1.2060e-02,\n",
      "         -6.3764e-02, -2.3920e-01, -1.2422e-01,  5.7050e-01, -2.8444e-01,\n",
      "         -1.2807e-01,  6.9902e-01, -1.7306e-02,  4.4628e-01,  1.2733e-01,\n",
      "          4.2604e-01,  2.8323e-01,  3.6310e-01,  6.0017e-01, -7.1386e-02,\n",
      "          1.2168e-01, -4.4541e-01,  1.0923e-01,  8.6120e-02,  5.1774e-02],\n",
      "        [ 6.1026e-05, -9.8968e-02, -4.8601e-01, -7.7677e-02,  1.8583e-01,\n",
      "          2.1096e-01,  2.2032e-01,  9.7388e-01,  3.0667e-02, -2.5387e-01,\n",
      "         -4.0898e-01,  1.5744e-01, -8.3687e-01, -5.8385e-01,  2.8556e-01,\n",
      "          7.1972e-01,  6.4028e-01, -4.0251e-01, -2.1897e-01,  5.0954e-02,\n",
      "          1.5673e-01, -3.1351e-01, -8.2482e-01,  2.9486e-01, -1.3284e-01],\n",
      "        [ 7.2184e-03,  2.9683e-01,  1.8828e+00,  2.8116e-01, -7.1558e-01,\n",
      "          8.5134e-02,  2.2521e-01, -4.7056e-01, -7.7854e-01,  3.6123e-01,\n",
      "         -4.7102e-01, -1.6679e-01,  1.3386e-01, -3.3217e-01, -1.0226e-01,\n",
      "          6.6038e-01,  7.8700e-02,  2.2016e-02, -2.7069e-01,  4.4811e-01,\n",
      "          4.0167e-01, -1.4864e-01, -3.1468e-01,  7.1881e-02,  1.1051e-01],\n",
      "        [-3.4980e-02,  3.1158e-02,  7.8231e-02, -6.0932e-02, -3.1886e-01,\n",
      "         -1.1144e-01, -1.0084e-01, -1.5445e-01,  6.6405e-02, -1.4303e-01,\n",
      "         -4.2118e-02,  1.2783e-01, -1.0855e-01,  1.2944e-01, -3.8267e-01,\n",
      "          1.1205e-01, -1.3506e-01,  3.4088e-02,  2.1633e-01,  1.9209e-02,\n",
      "          5.0333e-02,  5.0157e-02,  5.9135e-02,  1.8653e-01,  2.2352e-01],\n",
      "        [ 4.0182e-02, -1.6574e-01,  2.6772e-01, -5.3624e-02, -3.8025e-01,\n",
      "         -3.1382e-01,  3.1644e-01, -4.4127e-01,  9.7346e-02, -5.6395e-02,\n",
      "          3.9800e-01,  2.3513e-01,  1.7591e-01,  1.7128e-01,  9.2431e-02,\n",
      "         -1.5473e-02, -1.9900e-01,  3.8580e-01, -3.0955e-02,  1.5624e-01,\n",
      "          3.1094e-02, -1.9454e-01,  2.8936e-01, -3.4939e-01,  4.4445e-01],\n",
      "        [-1.9539e-02,  1.9868e-01,  1.8390e+00,  4.4152e-01, -6.2761e-01,\n",
      "         -1.6619e-01,  7.0835e-01, -1.5474e+00, -5.3735e-02,  4.6131e-01,\n",
      "          3.2918e-01,  5.4841e-01,  9.7475e-01, -9.7774e-02,  1.0148e+00,\n",
      "          4.6992e-01,  7.9612e-02,  9.2080e-01, -1.8404e-01,  4.9855e-01,\n",
      "          8.5011e-01, -4.9200e-01,  5.2784e-01, -7.5251e-01,  1.0342e+00],\n",
      "        [-1.2070e-03, -3.0679e-02, -1.3399e+00, -2.6329e-02,  6.7835e-01,\n",
      "          2.7512e-01, -6.7591e-01,  8.5145e-01,  1.2338e-01, -2.0338e-01,\n",
      "          3.1982e-02, -5.1342e-01, -6.7752e-01, -2.6967e-01,  2.6947e-02,\n",
      "         -6.4463e-01, -8.7670e-02, -4.3876e-01,  1.6123e-01, -1.2162e-02,\n",
      "         -2.7381e-01,  7.3064e-01, -2.7356e-01,  1.0308e-01, -6.5835e-01],\n",
      "        [-1.1413e-02,  7.2116e-03,  7.3068e-02,  1.1704e-01,  2.2910e-01,\n",
      "         -2.7565e-02,  1.4485e-01, -5.5850e-02, -1.6812e-01,  2.4561e-01,\n",
      "          1.8381e-01, -4.0655e-01,  1.8747e-01, -2.9159e-02, -1.2685e-01,\n",
      "         -3.3018e-01, -2.4463e-01,  1.9688e-03, -4.3691e-02, -6.5578e-02,\n",
      "         -2.1738e-01,  5.2279e-01,  4.1529e-01, -8.8034e-02,  1.1671e-01],\n",
      "        [ 1.5698e-02,  7.3639e-02,  2.0373e+00,  1.9018e-01, -6.0750e-01,\n",
      "          1.1320e-01,  4.2555e-01, -5.2367e-01, -5.0694e-01,  6.2025e-01,\n",
      "         -8.5763e-01,  2.2760e-01,  2.6096e-01, -2.2654e-01,  6.9694e-02,\n",
      "          1.2476e+00,  3.8427e-01, -4.3423e-01, -4.3140e-01,  2.5431e-01,\n",
      "          6.7013e-01, -3.1480e-01, -2.2128e-01,  6.0757e-01,  3.7209e-01],\n",
      "        [ 1.3827e-02,  2.0955e-01,  1.9864e+00,  2.7745e-01, -8.1198e-01,\n",
      "         -4.6687e-01,  1.0188e+00, -1.3041e+00, -2.6744e-01,  4.2706e-01,\n",
      "          5.7434e-02,  4.2050e-01,  9.2163e-01,  3.2439e-03,  2.4236e-01,\n",
      "          8.2344e-01,  2.9790e-02,  4.6255e-01, -4.6221e-01,  5.7969e-02,\n",
      "          5.4496e-01, -3.7512e-01,  4.9618e-01, -2.8809e-01,  1.3174e+00]]) \n",
      "\n"
     ]
    }
   ],
   "source": [
    "for name, param in Koopman_model.model_K.named_parameters():\n",
    "    print(f\"Layer: {name} | Size: {param.size()} | Values : {param} \\n\")"
   ]
  },
  {
   "cell_type": "code",
   "execution_count": 41,
   "metadata": {},
   "outputs": [],
   "source": [
    "eigenvalues, eigenvectors = torch.linalg.eig(Koopman_model.model_K.K.data)\n",
    "sorted_indices = torch.argsort(eigenvalues.real, descending=True)\n",
    "sorted_eigenvalues = eigenvalues[sorted_indices]\n",
    "sorted_eigenvectors = eigenvectors[:, sorted_indices]"
   ]
  },
  {
   "cell_type": "code",
   "execution_count": 43,
   "metadata": {},
   "outputs": [
    {
     "data": {
      "text/plain": [
       "<matplotlib.collections.PathCollection at 0x7f29cb8a34f0>"
      ]
     },
     "execution_count": 43,
     "metadata": {},
     "output_type": "execute_result"
    },
    {
     "data": {
      "image/png": "[encoded data removed]",
      "text/plain": [
       "<Figure size 432x288 with 1 Axes>"
      ]
     },
     "metadata": {
      "needs_background": "light"
     },
     "output_type": "display_data"
    }
   ],
   "source": [
    "plt.scatter(sorted_eigenvalues.real, sorted_eigenvalues.imag)"
   ]
  },
  {
   "cell_type": "code",
   "execution_count": 42,
   "metadata": {},
   "outputs": [
    {
     "name": "stderr",
     "output_type": "stream",
     "text": [
      "/home/guoyue/Koopman4DRP/pk4DRP/lib/python3.8/site-packages/torch/_tensor.py:1064: ComplexWarning: Casting complex values to real discards the imaginary part\n",
      "  return self.numpy().astype(dtype, copy=False)\n"
     ]
    },
    {
     "data": {
      "text/plain": [
       "[<matplotlib.lines.Line2D at 0x7f2a1408cfd0>]"
      ]
     },
     "execution_count": 42,
     "metadata": {},
     "output_type": "execute_result"
    },
    {
     "data": {
      "image/png": "[encoded data removed]",
      "text/plain": [
       "<Figure size 432x288 with 1 Axes>"
      ]
     },
     "metadata": {
      "needs_background": "light"
     },
     "output_type": "display_data"
    }
   ],
   "source": [
    "plt.plot(sorted_eigenvalues)"
   ]
  },
  {
   "cell_type": "markdown",
   "metadata": {},
   "source": [
    "# Evaluation"
   ]
  },
  {
   "cell_type": "code",
   "execution_count": 21,
   "metadata": {},
   "outputs": [],
   "source": [
    "# def pred_soln(Koopman_model, x0, Nt):\n",
    "#     Koopman_model.eval()\n",
    "#     x_pred_list = [x0]\n",
    "    \n",
    "#     psi_x0 = Koopman_model.dict(x0)\n",
    "#     psi_x_pred_list = [psi_x0]\n",
    "    \n",
    "#     B = Koopman_model.dict.generate_B(x0)\n",
    "\n",
    "#     for _ in range(Nt):\n",
    "#         psi_pred = Koopman_model.model_K(psi_x_pred_list[-1])\n",
    "#         x_pred = torch.matmul(psi_pred, B)\n",
    "#         x_pred_list.append(x_pred.detach())\n",
    "#         psi_x_pred_list.append(psi_pred.detach())\n",
    "    \n",
    "#     return torch.stack(x_pred_list, dim=1)\n"
   ]
  },
  {
   "cell_type": "code",
   "execution_count": 44,
   "metadata": {},
   "outputs": [],
   "source": [
    "def pred_soln(Koopman_model, x0, Nt):\n",
    "    Koopman_model.eval()\n",
    "    x_pred_list = [x0]\n",
    "    # psi_x0 = Koopman_model.dict(x0)\n",
    "    # psi_pred = psi_x0\n",
    "    \n",
    "    B = Koopman_model.dict.generate_B(x0)\n",
    "    x_pred = x0\n",
    "\n",
    "    for _ in range(Nt):\n",
    "        psi_pred = Koopman_model(x_pred)\n",
    "        x_pred = torch.matmul(psi_pred, B)\n",
    "        x_pred_list.append(x_pred.detach())\n",
    "    \n",
    "    return torch.stack(x_pred_list, dim=1)\n"
   ]
  },
  {
   "cell_type": "code",
   "execution_count": 45,
   "metadata": {},
   "outputs": [
    {
     "data": {
      "text/plain": [
       "(50, 2)"
      ]
     },
     "execution_count": 45,
     "metadata": {},
     "output_type": "execute_result"
    }
   ],
   "source": [
    "duffing_data_test = duffing.generate_init_data(n_traj=1, traj_len=50, seed=521)\n",
    "duffing_data_test.shape "
   ]
  },
  {
   "cell_type": "code",
   "execution_count": 46,
   "metadata": {},
   "outputs": [],
   "source": [
    "test_length = 50"
   ]
  },
  {
   "cell_type": "code",
   "execution_count": 47,
   "metadata": {},
   "outputs": [],
   "source": [
    "duffing_test_pred_iter = pred_soln(Koopman_model=Koopman_model,\n",
    "                              x0=torch.tensor(duffing_data_test[0]).double().reshape(1,-1),\n",
    "                              Nt=test_length-1)"
   ]
  },
  {
   "cell_type": "code",
   "execution_count": 48,
   "metadata": {},
   "outputs": [],
   "source": [
    "# duffing_test_pred = pred_soln(dict=dict_nn,\n",
    "#                               model_K=model_K,\n",
    "#                               x0=torch.tensor(duffing_data_curr[0]).double().reshape(1,-1),\n",
    "#                               Nt=49)"
   ]
  },
  {
   "cell_type": "code",
   "execution_count": 49,
   "metadata": {},
   "outputs": [
    {
     "data": {
      "text/plain": [
       "<matplotlib.legend.Legend at 0x7f29cb87edf0>"
      ]
     },
     "execution_count": 49,
     "metadata": {},
     "output_type": "execute_result"
    },
    {
     "data": {
      "image/png": "[encoded data removed]",
      "text/plain": [
       "<Figure size 432x288 with 1 Axes>"
      ]
     },
     "metadata": {
      "needs_background": "light"
     },
     "output_type": "display_data"
    }
   ],
   "source": [
    "plt.scatter(duffing_data_test[:,0], duffing_data_test[:,1], label='True')\n",
    "plt.scatter(duffing_test_pred_iter[:,:,0], duffing_test_pred_iter[:,:,1], label='Predicted')\n",
    "plt.legend()\n"
   ]
  },
  {
   "cell_type": "code",
   "execution_count": null,
   "metadata": {},
   "outputs": [],
   "source": []
  },
  {
   "cell_type": "code",
   "execution_count": null,
   "metadata": {},
   "outputs": [],
   "source": []
  }
 ],
 "metadata": {
  "kernelspec": {
   "display_name": "pk4DRP",
   "language": "python",
   "name": "python3"
  },
  "language_info": {
   "codemirror_mode": {
    "name": "ipython",
    "version": 3
   },
   "file_extension": ".py",
   "mimetype": "text/x-python",
   "name": "python",
   "nbconvert_exporter": "python",
   "pygments_lexer": "ipython3",
   "version": "3.10.12"
  }
 },
 "nbformat": 4,
 "nbformat_minor": 2
}
