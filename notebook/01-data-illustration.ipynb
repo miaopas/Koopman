{
 "cells": [
  {
   "cell_type": "code",
   "execution_count": 1,
   "metadata": {},
   "outputs": [
    {
     "name": "stderr",
     "output_type": "stream",
     "text": [
      "/home/haotian/Enviroments/env_hydra/lib/python3.10/site-packages/tqdm/auto.py:21: TqdmWarning: IProgress not found. Please update jupyter and ipywidgets. See https://ipywidgets.readthedocs.io/en/stable/user_install.html\n",
      "  from .autonotebook import tqdm as notebook_tqdm\n"
     ]
    }
   ],
   "source": [
    "import autoroot\n",
    "from src.data.ode_targets import DuffingOscillator\n",
    "from src.data.datamodule import ODEDataModule"
   ]
  },
  {
   "cell_type": "code",
   "execution_count": 4,
   "metadata": {},
   "outputs": [
    {
     "name": "stderr",
     "output_type": "stream",
     "text": [
      "/home/haotian/Workspace/Koopman/src/data/datamodule.py:112: UserWarning: To copy construct from a tensor, it is recommended to use sourceTensor.clone().detach() or sourceTensor.clone().detach().requires_grad_(True), rather than torch.tensor(sourceTensor).\n",
      "  return torch.tensor(data)\n"
     ]
    }
   ],
   "source": [
    "datamodule = ODEDataModule(\n",
    "        train_val_test_split=(512, 512, 512),\n",
    "        batch_size = 64,\n",
    "        num_workers = 0,\n",
    "        pin_memory = False,\n",
    "        target= DuffingOscillator,\n",
    "        length = 128,\n",
    "        dt=1e-3, \n",
    "        t_step=0.25, \n",
    "        dim =2\n",
    ")"
   ]
  }
 ],
 "metadata": {
  "kernelspec": {
   "display_name": "env_hydra",
   "language": "python",
   "name": "python3"
  },
  "language_info": {
   "codemirror_mode": {
    "name": "ipython",
    "version": 3
   },
   "file_extension": ".py",
   "mimetype": "text/x-python",
   "name": "python",
   "nbconvert_exporter": "python",
   "pygments_lexer": "ipython3",
   "version": "3.10.12"
  }
 },
 "nbformat": 4,
 "nbformat_minor": 2
}
