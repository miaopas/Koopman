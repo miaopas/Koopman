{
 "cells": [
  {
   "cell_type": "code",
   "execution_count": 1,
   "metadata": {},
   "outputs": [
    {
     "name": "stderr",
     "output_type": "stream",
     "text": [
      "/home/haotian/Enviroments/env_hydra/lib/python3.10/site-packages/tqdm/auto.py:21: TqdmWarning: IProgress not found. Please update jupyter and ipywidgets. See https://ipywidgets.readthedocs.io/en/stable/user_install.html\n",
      "  from .autonotebook import tqdm as notebook_tqdm\n",
      "Seed set to 123\n"
     ]
    },
    {
     "data": {
      "text/plain": [
       "123"
      ]
     },
     "execution_count": 1,
     "metadata": {},
     "output_type": "execute_result"
    }
   ],
   "source": [
    "import autoroot\n",
    "from src.data.datamodule import ODEDataModule\n",
    "from src.data.ode_targets import DuffingOscillator\n",
    "\n",
    "import torch\n",
    "from src.modules.lit_module import LitModule\n",
    "from src.modules.models.koopman import ConstantMatrixMultiplier\n",
    "from src.modules.models.dictionary import PsiNN\n",
    "from torch.optim import Adam\n",
    "from torch.optim.lr_scheduler import ReduceLROnPlateau\n",
    "from functools import partial\n",
    "from pathlib import Path\n",
    "import os\n",
    "import matplotlib.pyplot as plt\n",
    "import lightning\n",
    "\n",
    "lightning.seed_everything(123)"
   ]
  },
  {
   "cell_type": "code",
   "execution_count": 8,
   "metadata": {},
   "outputs": [],
   "source": [
    "state_dim = 2\n",
    "layer_sizes = [256, 256, 256]\n",
    "n_psi_train = 22\n",
    "activation_func = \"tanh\"\n",
    "n_psi = 1 + state_dim + n_psi_train\n",
    "\n",
    "dict_nn = PsiNN(\n",
    "    inputs_dim=state_dim,\n",
    "    layer_sizes=layer_sizes,\n",
    "    n_psi_train=n_psi_train,\n",
    "    activation_func=activation_func,\n",
    ")\n",
    "model_K = ConstantMatrixMultiplier(n_psi=n_psi)\n",
    "optimizer = partial(torch.optim.Adam, lr=1e-2)\n",
    "scheduler = partial(ReduceLROnPlateau,mode=\"min\", factor=0.8, patience=20)\n",
    "\n",
    "dataset = ODEDataModule(\n",
    "    train_val_test_split=(100,0,0),\n",
    "    batch_size=64,\n",
    "    num_workers=0,\n",
    "    pin_memory=False,\n",
    "    target=DuffingOscillator,\n",
    "    length=50,\n",
    "    dt=1e-3,\n",
    "    t_step=0.25,\n",
    "    dim=2,\n",
    ").dataset.double()"
   ]
  },
  {
   "cell_type": "code",
   "execution_count": 39,
   "metadata": {},
   "outputs": [
    {
     "name": "stdout",
     "output_type": "stream",
     "text": [
      "/home/haotian/Workspace/Koopman/log/test/tensorboard/version_1/checkpoints/epoch_105-3.485e-05.ckpt\n"
     ]
    }
   ],
   "source": [
    "path = Path(\"/home/haotian/Workspace/Koopman/log/test/tensorboard/version_1\")\n",
    "cfg_path = path / \".hydra/config.yaml\"\n",
    "ckpt = max((path / \"checkpoints\").glob(\"*.ckpt\"), key=os.path.getctime)\n",
    "print(ckpt)\n",
    "model = LitModule.load_from_checkpoint(ckpt).to('cpu')\n",
    "yhat = model.predict_onestep(dataset[:,0,:], 50)"
   ]
  },
  {
   "cell_type": "code",
   "execution_count": 40,
   "metadata": {},
   "outputs": [
    {
     "data": {
      "text/plain": [
       "<matplotlib.collections.PathCollection at 0x7f2274385d20>"
      ]
     },
     "execution_count": 40,
     "metadata": {},
     "output_type": "execute_result"
    },
    {
     "data": {
      "image/png": "[encoded data removed]",
      "text/plain": [
       "<Figure size 640x480 with 1 Axes>"
      ]
     },
     "metadata": {},
     "output_type": "display_data"
    }
   ],
   "source": [
    "index = 0\n",
    "plt.scatter(*dataset[index].T, s=15)\n",
    "plt.scatter(*yhat[index].T, s=5)\n"
   ]
  },
  {
   "cell_type": "code",
   "execution_count": null,
   "metadata": {},
   "outputs": [],
   "source": []
  }
 ],
 "metadata": {
  "kernelspec": {
   "display_name": "env_hydra",
   "language": "python",
   "name": "python3"
  },
  "language_info": {
   "codemirror_mode": {
    "name": "ipython",
    "version": 3
   },
   "file_extension": ".py",
   "mimetype": "text/x-python",
   "name": "python",
   "nbconvert_exporter": "python",
   "pygments_lexer": "ipython3",
   "version": "3.10.12"
  }
 },
 "nbformat": 4,
 "nbformat_minor": 2
}
