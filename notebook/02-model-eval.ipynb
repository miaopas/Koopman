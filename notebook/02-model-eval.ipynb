{
 "cells": [
  {
   "cell_type": "code",
   "execution_count": 11,
   "metadata": {},
   "outputs": [],
   "source": [
    "import autoroot\n",
    "import torch\n",
    "from src.modules.lit_module import LitModule\n",
    "from src.modules.models.koopman import ConstantMatrixMultiplier\n",
    "from src.modules.models.dictionary import PsiNN\n",
    "from torch.optim import Adam\n",
    "from torch.optim.lr_scheduler import ReduceLROnPlateau\n",
    "from functools import partial"
   ]
  },
  {
   "cell_type": "code",
   "execution_count": 13,
   "metadata": {},
   "outputs": [],
   "source": [
    "state_dim = 2\n",
    "layer_sizes = [256, 256, 256]\n",
    "n_psi_train = 22\n",
    "activation_func = \"tanh\"\n",
    "n_psi = 1 + state_dim + n_psi_train\n",
    "\n",
    "dict_nn = PsiNN(\n",
    "    inputs_dim=state_dim,\n",
    "    layer_sizes=layer_sizes,\n",
    "    n_psi_train=n_psi_train,\n",
    "    activation_func=activation_func,\n",
    ")\n",
    "model_K = ConstantMatrixMultiplier(n_psi=n_psi)\n",
    "optimizer = partial(torch.optim.Adam, lr=1e-2)\n",
    "scheduler = partial(ReduceLROnPlateau,mode=\"min\", factor=0.8, patience=20)"
   ]
  },
  {
   "cell_type": "code",
   "execution_count": 14,
   "metadata": {},
   "outputs": [
    {
     "name": "stderr",
     "output_type": "stream",
     "text": [
      "/home/haotian/Enviroments/env_hydra/lib/python3.10/site-packages/lightning/pytorch/utilities/parsing.py:199: Attribute 'psi' is an instance of `nn.Module` and is already saved during checkpointing. It is recommended to ignore them using `self.save_hyperparameters(ignore=['psi'])`.\n",
      "/home/haotian/Enviroments/env_hydra/lib/python3.10/site-packages/lightning/pytorch/utilities/parsing.py:199: Attribute 'model_K' is an instance of `nn.Module` and is already saved during checkpointing. It is recommended to ignore them using `self.save_hyperparameters(ignore=['model_K'])`.\n"
     ]
    },
    {
     "data": {
      "text/plain": [
       "LitModule(\n",
       "  (criterion): MSELoss()\n",
       "  (psi): PsiNN(\n",
       "    (dicNN): DicNN(\n",
       "      (input_layer): Linear(in_features=2, out_features=256, bias=False)\n",
       "      (hidden_layers): ModuleList(\n",
       "        (0-1): 2 x Linear(in_features=256, out_features=256, bias=True)\n",
       "      )\n",
       "      (output_layer): Linear(in_features=256, out_features=22, bias=True)\n",
       "    )\n",
       "  )\n",
       "  (model_K): ConstantMatrixMultiplier()\n",
       "  (train_loss): MeanMetric()\n",
       "  (val_loss): MeanMetric()\n",
       "  (test_loss): MeanMetric()\n",
       ")"
      ]
     },
     "execution_count": 14,
     "metadata": {},
     "output_type": "execute_result"
    }
   ],
   "source": [
    "LitModule(dict_nn, model_K, optimizer, scheduler, compile=False)"
   ]
  }
 ],
 "metadata": {
  "kernelspec": {
   "display_name": "env_hydra",
   "language": "python",
   "name": "python3"
  },
  "language_info": {
   "codemirror_mode": {
    "name": "ipython",
    "version": 3
   },
   "file_extension": ".py",
   "mimetype": "text/x-python",
   "name": "python",
   "nbconvert_exporter": "python",
   "pygments_lexer": "ipython3",
   "version": "3.10.12"
  }
 },
 "nbformat": 4,
 "nbformat_minor": 2
}
